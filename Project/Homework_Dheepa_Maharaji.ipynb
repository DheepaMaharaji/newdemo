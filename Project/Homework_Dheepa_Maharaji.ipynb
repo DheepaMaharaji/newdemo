{
  "nbformat": 4,
  "nbformat_minor": 0,
  "metadata": {
    "colab": {
      "provenance": [],
      "authorship_tag": "ABX9TyPbevZWKV2i0dHg3GA8X89G",
      "include_colab_link": true
    },
    "kernelspec": {
      "name": "python3",
      "display_name": "Python 3"
    },
    "language_info": {
      "name": "python"
    }
  },
  "cells": [
    {
      "cell_type": "markdown",
      "metadata": {
        "id": "view-in-github",
        "colab_type": "text"
      },
      "source": [
        "<a href=\"https://colab.research.google.com/github/DheepaMaharaji/newdemo/blob/master/Project/Homework_Dheepa_Maharaji.ipynb\" target=\"_parent\"><img src=\"https://colab.research.google.com/assets/colab-badge.svg\" alt=\"Open In Colab\"/></a>"
      ]
    },
    {
      "cell_type": "code",
      "execution_count": 1,
      "metadata": {
        "colab": {
          "base_uri": "https://localhost:8080/"
        },
        "id": "xU8AR5ybYBlY",
        "outputId": "338ba8e9-3609-4e6a-868f-9d6140b17fdd"
      },
      "outputs": [
        {
          "output_type": "stream",
          "name": "stdout",
          "text": [
            "300\n"
          ]
        }
      ],
      "source": [
        "def convertMinutesToSeconds(x):\n",
        "  return x*60\n",
        "\n",
        "print(convertMinutesToSeconds(5))\n"
      ]
    },
    {
      "cell_type": "code",
      "source": [
        "def convertToUppercase(name):\n",
        "  return name.upper()\n",
        "\n",
        "print(convertToUppercase(\"Dheepa\"))"
      ],
      "metadata": {
        "colab": {
          "base_uri": "https://localhost:8080/"
        },
        "id": "-O7JQxEiYecW",
        "outputId": "a4cd4f59-8288-4572-d8dc-d6016320820c"
      },
      "execution_count": 7,
      "outputs": [
        {
          "output_type": "stream",
          "name": "stdout",
          "text": [
            "DHEEPA\n"
          ]
        }
      ]
    },
    {
      "cell_type": "code",
      "source": [
        "def convertDegreeToFahrenheit(temp):\n",
        "  return temp*9/5+32\n",
        "print(\"Temperature in Fahrenheit is \"+str(convertDegreeToFahrenheit(36)) )\n"
      ],
      "metadata": {
        "colab": {
          "base_uri": "https://localhost:8080/"
        },
        "id": "GhFSJE1nZp_2",
        "outputId": "ba84df32-e98e-4700-93a0-dccdf37da922"
      },
      "execution_count": 11,
      "outputs": [
        {
          "output_type": "stream",
          "name": "stdout",
          "text": [
            "Temperature in Fahrenheit is 96.8\n"
          ]
        }
      ]
    },
    {
      "cell_type": "markdown",
      "source": [
        "**Conditional Statements**"
      ],
      "metadata": {
        "id": "scQF4mykasGA"
      }
    },
    {
      "cell_type": "code",
      "source": [
        "def BiggerPassword(p):\n",
        "  if(len(p)>=8):\n",
        "    print(\"Password is accepted\")\n",
        "  else:\n",
        "    print(\"Retype Password\")\n",
        "BiggerPassword(\"Password\")\n"
      ],
      "metadata": {
        "colab": {
          "base_uri": "https://localhost:8080/"
        },
        "id": "HENeAjrxa0td",
        "outputId": "6effbd24-b94f-4ade-fe6f-d0ae55787d85"
      },
      "execution_count": 14,
      "outputs": [
        {
          "output_type": "stream",
          "name": "stdout",
          "text": [
            "Password is accepted\n"
          ]
        }
      ]
    },
    {
      "cell_type": "code",
      "source": [
        "def find(q):\n",
        "  if(\"cool\" in q):\n",
        "    print(\"Cool is present\")\n",
        "  else:\n",
        "    print(\"Cool is not here\")\n",
        "find(\"Flipkart is cool platform\")"
      ],
      "metadata": {
        "colab": {
          "base_uri": "https://localhost:8080/"
        },
        "id": "S2F1bjLnbMXU",
        "outputId": "e49fe5cb-02bb-4f01-91b8-14faa8940b1d"
      },
      "execution_count": 16,
      "outputs": [
        {
          "output_type": "stream",
          "name": "stdout",
          "text": [
            "Cool is present\n"
          ]
        }
      ]
    },
    {
      "cell_type": "code",
      "source": [
        "def variableTypeCheck(x):\n",
        "  if(type(x)==str):\n",
        "    print(\"yes\")\n",
        "j='c'\n",
        "variableTypeCheck(j)\n"
      ],
      "metadata": {
        "colab": {
          "base_uri": "https://localhost:8080/"
        },
        "id": "xxSnlj7kcJRX",
        "outputId": "6b81d381-95b4-4f15-bf42-e1dcc05b6993"
      },
      "execution_count": 22,
      "outputs": [
        {
          "output_type": "stream",
          "name": "stdout",
          "text": [
            "yes\n"
          ]
        }
      ]
    },
    {
      "cell_type": "code",
      "source": [],
      "metadata": {
        "colab": {
          "base_uri": "https://localhost:8080/"
        },
        "id": "HD3VFnUjdk7z",
        "outputId": "28a51a91-e117-471f-f17a-81b745c90672"
      },
      "execution_count": 28,
      "outputs": [
        {
          "output_type": "execute_result",
          "data": {
            "text/plain": [
              "dict"
            ]
          },
          "metadata": {},
          "execution_count": 28
        }
      ]
    },
    {
      "cell_type": "code",
      "source": [
        "s='2'\n",
        "s.isdigit()\n",
        "len(s)"
      ],
      "metadata": {
        "colab": {
          "base_uri": "https://localhost:8080/"
        },
        "id": "xZsymivag0UB",
        "outputId": "63af598f-6379-4501-c599-80cd290e0760"
      },
      "execution_count": 30,
      "outputs": [
        {
          "output_type": "execute_result",
          "data": {
            "text/plain": [
              "1"
            ]
          },
          "metadata": {},
          "execution_count": 30
        }
      ]
    },
    {
      "cell_type": "code",
      "source": [
        "while True:\n",
        "  ui=int(input())\n",
        "  if ui.isdigit() and len(ui)==1:\n",
        "    print(True)\n",
        "  else:\n",
        "    print(\"invalid\")"
      ],
      "metadata": {
        "colab": {
          "base_uri": "https://localhost:8080/",
          "height": 228
        },
        "id": "qbjRSZeEqkDQ",
        "outputId": "15a410f9-246c-4239-83f8-4b4f2f1a59c9"
      },
      "execution_count": 40,
      "outputs": [
        {
          "name": "stdout",
          "output_type": "stream",
          "text": [
            "2\n"
          ]
        },
        {
          "output_type": "error",
          "ename": "AttributeError",
          "evalue": "'int' object has no attribute 'isdigit'",
          "traceback": [
            "\u001b[0;31m---------------------------------------------------------------------------\u001b[0m",
            "\u001b[0;31mAttributeError\u001b[0m                            Traceback (most recent call last)",
            "\u001b[0;32m<ipython-input-40-8a80a7a0ed00>\u001b[0m in \u001b[0;36m<cell line: 1>\u001b[0;34m()\u001b[0m\n\u001b[1;32m      1\u001b[0m \u001b[0;32mwhile\u001b[0m \u001b[0;32mTrue\u001b[0m\u001b[0;34m:\u001b[0m\u001b[0;34m\u001b[0m\u001b[0;34m\u001b[0m\u001b[0m\n\u001b[1;32m      2\u001b[0m   \u001b[0mui\u001b[0m\u001b[0;34m=\u001b[0m\u001b[0mint\u001b[0m\u001b[0;34m(\u001b[0m\u001b[0minput\u001b[0m\u001b[0;34m(\u001b[0m\u001b[0;34m)\u001b[0m\u001b[0;34m)\u001b[0m\u001b[0;34m\u001b[0m\u001b[0;34m\u001b[0m\u001b[0m\n\u001b[0;32m----> 3\u001b[0;31m   \u001b[0;32mif\u001b[0m \u001b[0mui\u001b[0m\u001b[0;34m.\u001b[0m\u001b[0misdigit\u001b[0m\u001b[0;34m(\u001b[0m\u001b[0;34m)\u001b[0m \u001b[0;32mand\u001b[0m \u001b[0mlen\u001b[0m\u001b[0;34m(\u001b[0m\u001b[0mui\u001b[0m\u001b[0;34m)\u001b[0m\u001b[0;34m==\u001b[0m\u001b[0;36m1\u001b[0m\u001b[0;34m:\u001b[0m\u001b[0;34m\u001b[0m\u001b[0;34m\u001b[0m\u001b[0m\n\u001b[0m\u001b[1;32m      4\u001b[0m     \u001b[0mprint\u001b[0m\u001b[0;34m(\u001b[0m\u001b[0;32mTrue\u001b[0m\u001b[0;34m)\u001b[0m\u001b[0;34m\u001b[0m\u001b[0;34m\u001b[0m\u001b[0m\n\u001b[1;32m      5\u001b[0m   \u001b[0;32melse\u001b[0m\u001b[0;34m:\u001b[0m\u001b[0;34m\u001b[0m\u001b[0;34m\u001b[0m\u001b[0m\n",
            "\u001b[0;31mAttributeError\u001b[0m: 'int' object has no attribute 'isdigit'"
          ]
        }
      ]
    },
    {
      "cell_type": "code",
      "source": [
        "x='2345'\n",
        "print(x)\n",
        "x.isdigit()\n",
        "y='235a'\n",
        "y.isdigit()"
      ],
      "metadata": {
        "colab": {
          "base_uri": "https://localhost:8080/"
        },
        "id": "SAS6GA2Tts1N",
        "outputId": "4796a30b-c69c-48b1-8858-81e54e0484ae"
      },
      "execution_count": 35,
      "outputs": [
        {
          "output_type": "stream",
          "name": "stdout",
          "text": [
            "2345\n"
          ]
        },
        {
          "output_type": "execute_result",
          "data": {
            "text/plain": [
              "False"
            ]
          },
          "metadata": {},
          "execution_count": 35
        }
      ]
    },
    {
      "cell_type": "code",
      "source": [
        "y=str(30)\n",
        "y.isdigit()"
      ],
      "metadata": {
        "colab": {
          "base_uri": "https://localhost:8080/"
        },
        "id": "U9Z1S9G-t68O",
        "outputId": "c49b8a97-0043-4ebb-ea5e-66aaf52b684a"
      },
      "execution_count": 38,
      "outputs": [
        {
          "output_type": "execute_result",
          "data": {
            "text/plain": [
              "True"
            ]
          },
          "metadata": {},
          "execution_count": 38
        }
      ]
    },
    {
      "cell_type": "code",
      "source": [],
      "metadata": {
        "id": "ibG7JCXwupUG"
      },
      "execution_count": null,
      "outputs": []
    }
  ]
}